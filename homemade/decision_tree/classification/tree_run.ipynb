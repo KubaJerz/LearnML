{
 "cells": [
  {
   "cell_type": "code",
   "execution_count": 5,
   "metadata": {},
   "outputs": [],
   "source": [
    "import pandas as pd\n",
    "from sklearn import tree\n",
    "from sklearn.model_selection import train_test_split\n",
    "from sklearn.tree import plot_tree\n",
    "import matplotlib.pyplot as plt\n",
    "from d_tree_classification import DecisionTree"
   ]
  },
  {
   "cell_type": "code",
   "execution_count": 6,
   "metadata": {},
   "outputs": [
    {
     "data": {
      "text/html": [
       "<div>\n",
       "<style scoped>\n",
       "    .dataframe tbody tr th:only-of-type {\n",
       "        vertical-align: middle;\n",
       "    }\n",
       "\n",
       "    .dataframe tbody tr th {\n",
       "        vertical-align: top;\n",
       "    }\n",
       "\n",
       "    .dataframe thead th {\n",
       "        text-align: right;\n",
       "    }\n",
       "</style>\n",
       "<table border=\"1\" class=\"dataframe\">\n",
       "  <thead>\n",
       "    <tr style=\"text-align: right;\">\n",
       "      <th></th>\n",
       "      <th>in_sf</th>\n",
       "      <th>beds</th>\n",
       "      <th>bath</th>\n",
       "      <th>price</th>\n",
       "      <th>year_built</th>\n",
       "      <th>sqft</th>\n",
       "      <th>price_per_sqft</th>\n",
       "      <th>elevation</th>\n",
       "    </tr>\n",
       "  </thead>\n",
       "  <tbody>\n",
       "    <tr>\n",
       "      <th>0</th>\n",
       "      <td>0</td>\n",
       "      <td>2.0</td>\n",
       "      <td>1.0</td>\n",
       "      <td>999000</td>\n",
       "      <td>1960</td>\n",
       "      <td>1000</td>\n",
       "      <td>999</td>\n",
       "      <td>10</td>\n",
       "    </tr>\n",
       "    <tr>\n",
       "      <th>1</th>\n",
       "      <td>0</td>\n",
       "      <td>2.0</td>\n",
       "      <td>2.0</td>\n",
       "      <td>2750000</td>\n",
       "      <td>2006</td>\n",
       "      <td>1418</td>\n",
       "      <td>1939</td>\n",
       "      <td>0</td>\n",
       "    </tr>\n",
       "    <tr>\n",
       "      <th>2</th>\n",
       "      <td>0</td>\n",
       "      <td>2.0</td>\n",
       "      <td>2.0</td>\n",
       "      <td>1350000</td>\n",
       "      <td>1900</td>\n",
       "      <td>2150</td>\n",
       "      <td>628</td>\n",
       "      <td>9</td>\n",
       "    </tr>\n",
       "    <tr>\n",
       "      <th>3</th>\n",
       "      <td>0</td>\n",
       "      <td>1.0</td>\n",
       "      <td>1.0</td>\n",
       "      <td>629000</td>\n",
       "      <td>1903</td>\n",
       "      <td>500</td>\n",
       "      <td>1258</td>\n",
       "      <td>9</td>\n",
       "    </tr>\n",
       "    <tr>\n",
       "      <th>4</th>\n",
       "      <td>0</td>\n",
       "      <td>0.0</td>\n",
       "      <td>1.0</td>\n",
       "      <td>439000</td>\n",
       "      <td>1930</td>\n",
       "      <td>500</td>\n",
       "      <td>878</td>\n",
       "      <td>10</td>\n",
       "    </tr>\n",
       "  </tbody>\n",
       "</table>\n",
       "</div>"
      ],
      "text/plain": [
       "   in_sf  beds  bath    price  year_built  sqft  price_per_sqft  elevation\n",
       "0      0   2.0   1.0   999000        1960  1000             999         10\n",
       "1      0   2.0   2.0  2750000        2006  1418            1939          0\n",
       "2      0   2.0   2.0  1350000        1900  2150             628          9\n",
       "3      0   1.0   1.0   629000        1903   500            1258          9\n",
       "4      0   0.0   1.0   439000        1930   500             878         10"
      ]
     },
     "execution_count": 6,
     "metadata": {},
     "output_type": "execute_result"
    }
   ],
   "source": [
    "house_df = pd.read_csv('../../../data/sf_vs_nyc_house_data.csv')\n",
    "house_df.head()"
   ]
  },
  {
   "cell_type": "code",
   "execution_count": 7,
   "metadata": {},
   "outputs": [
    {
     "data": {
      "text/plain": [
       "array([[      2,       1,  999000,    1960,    1000,     999,      10],\n",
       "       [      2,       2, 2750000,    2006,    1418,    1939,       0],\n",
       "       [      2,       2, 1350000,    1900,    2150,     628,       9],\n",
       "       [      1,       1,  629000,    1903,     500,    1258,       9],\n",
       "       [      0,       1,  439000,    1930,     500,     878,      10],\n",
       "       [      0,       1,  439000,    1930,     500,     878,      10],\n",
       "       [      1,       1,  475000,    1920,     500,     950,      10],\n",
       "       [      1,       1,  975000,    1930,     900,    1083,      10],\n",
       "       [      1,       1,  975000,    1930,     900,    1083,      12],\n",
       "       [      2,       1, 1895000,    1921,    1000,    1895,      12]])"
      ]
     },
     "execution_count": 7,
     "metadata": {},
     "output_type": "execute_result"
    }
   ],
   "source": [
    "df_copy = house_df\n",
    "np_house  = df_copy.to_numpy(dtype=int)\n",
    "\n",
    "np_house[:, 1:][:10] #first ten without the labels\n",
    "#len(np_house[1])"
   ]
  },
  {
   "cell_type": "code",
   "execution_count": 8,
   "metadata": {},
   "outputs": [],
   "source": [
    "X_train, X_test, y_train, y_test = train_test_split(house_df.iloc[:, 1:], house_df['in_sf'], test_size=0.2, random_state=42)"
   ]
  },
  {
   "cell_type": "code",
   "execution_count": 9,
   "metadata": {},
   "outputs": [],
   "source": [
    "clf = tree.DecisionTreeClassifier(max_depth=10, criterion='entropy')\n",
    "clf = clf.fit(X_train,y_train)"
   ]
  },
  {
   "cell_type": "code",
   "execution_count": 10,
   "metadata": {},
   "outputs": [],
   "source": [
    "# # Create a figure with a larger size\n",
    "# fig, ax = plt.subplots(figsize=(20, 10))  # Adjust the size as needed\n",
    "\n",
    "# feature_names = house_df.iloc[:, 1:].columns.tolist()\n",
    "\n",
    "# # Plot the tree on the larger figure\n",
    "# tree.plot_tree(clf, ax=ax, feature_names=feature_names, fontsize=10)  # Adjust the fontsize as needed\n",
    "\n",
    "# # Show the plot\n",
    "# plt.show()"
   ]
  },
  {
   "cell_type": "code",
   "execution_count": 11,
   "metadata": {},
   "outputs": [],
   "source": [
    "y_pred = clf.predict(X_test)"
   ]
  },
  {
   "cell_type": "code",
   "execution_count": 12,
   "metadata": {},
   "outputs": [
    {
     "data": {
      "image/png": "[encoded data removed]",
      "text/plain": [
       "<Figure size 640x480 with 2 Axes>"
      ]
     },
     "metadata": {},
     "output_type": "display_data"
    }
   ],
   "source": [
    "from sklearn.metrics import ConfusionMatrixDisplay\n",
    "\n",
    "ConfusionMatrixDisplay.from_predictions(y_true=y_test,y_pred=y_pred)\n",
    "plt.show()"
   ]
  },
  {
   "cell_type": "markdown",
   "metadata": {},
   "source": [
    "# Nice now lets make our own decison tree"
   ]
  },
  {
   "cell_type": "code",
   "execution_count": 13,
   "metadata": {},
   "outputs": [],
   "source": [
    "mytree = DecisionTree(max_depth = 10, criterion='entropy')\n",
    "\n",
    "mytree.fit(X_train, y_train)"
   ]
  },
  {
   "cell_type": "code",
   "execution_count": 14,
   "metadata": {},
   "outputs": [
    {
     "name": "stdout",
     "output_type": "stream",
     "text": [
      "Results:\n",
      "\n",
      "86  from size of:  99 \n",
      "\n"
     ]
    },
    {
     "data": {
      "image/png": "[encoded data removed]",
      "text/plain": [
       "<Figure size 640x480 with 2 Axes>"
      ]
     },
     "metadata": {},
     "output_type": "display_data"
    }
   ],
   "source": [
    "test_pred = mytree.predict(X_test)\n",
    "\n",
    "print('Results:\\n')\n",
    "print(sum(test_pred == y_test),' from size of: ',len(test_pred),'\\n')\n",
    "\n",
    "from sklearn.metrics import accuracy_score, ConfusionMatrixDisplay\n",
    "accuracy_score(y_test, test_pred)\n",
    "\n",
    "ConfusionMatrixDisplay.from_predictions(y_true=y_test,y_pred=test_pred)\n",
    "plt.show()\n"
   ]
  },
  {
   "cell_type": "code",
   "execution_count": 15,
   "metadata": {},
   "outputs": [],
   "source": [
    "# mytree.set_labels(X_test.columns)\n",
    "# mytree.print()"
   ]
  },
  {
   "cell_type": "code",
   "execution_count": 16,
   "metadata": {},
   "outputs": [
    {
     "name": "stdout",
     "output_type": "stream",
     "text": [
      "Results:\n",
      "\n",
      "87  from size of:  99 \n",
      "\n"
     ]
    },
    {
     "data": {
      "image/png": "[encoded data removed]",
      "text/plain": [
       "<Figure size 640x480 with 2 Axes>"
      ]
     },
     "metadata": {},
     "output_type": "display_data"
    }
   ],
   "source": [
    "mytree = DecisionTree(max_depth = 10)\n",
    "\n",
    "mytree.fit(X_train, y_train)\n",
    "\n",
    "test_pred = mytree.predict(X_test)\n",
    "\n",
    "print('Results:\\n')\n",
    "print(sum(test_pred == y_test),' from size of: ',len(test_pred),'\\n')\n",
    "\n",
    "from sklearn.metrics import accuracy_score, ConfusionMatrixDisplay\n",
    "accuracy_score(y_test, test_pred)\n",
    "\n",
    "ConfusionMatrixDisplay.from_predictions(y_true=y_test,y_pred=test_pred)\n",
    "plt.show()"
   ]
  }
 ],
 "metadata": {
  "kernelspec": {
   "display_name": "Python 3",
   "language": "python",
   "name": "python3"
  },
  "language_info": {
   "codemirror_mode": {
    "name": "ipython",
    "version": 3
   },
   "file_extension": ".py",
   "mimetype": "text/x-python",
   "name": "python",
   "nbconvert_exporter": "python",
   "pygments_lexer": "ipython3",
   "version": "3.11.5"
  }
 },
 "nbformat": 4,
 "nbformat_minor": 2
}
