{
 "cells": [
  {
   "cell_type": "code",
   "execution_count": 181,
   "metadata": {},
   "outputs": [],
   "source": [
    "import numpy as np\n",
    "import os\n",
    "from sklearn.model_selection import train_test_split\n",
    "import torch "
   ]
  },
  {
   "cell_type": "code",
   "execution_count": 182,
   "metadata": {},
   "outputs": [
    {
     "name": "stdout",
     "output_type": "stream",
     "text": [
      "in_sf,beds,bath,price,year_built,sqft,price_per_sqft,elevation\n",
      "\n"
     ]
    },
    {
     "data": {
      "text/plain": [
       "(492, 8)"
      ]
     },
     "execution_count": 182,
     "metadata": {},
     "output_type": "execute_result"
    }
   ],
   "source": [
    "with open('../../sf_vs_nyc_house_data.csv', 'r') as f:\n",
    "    labels = f.readline()\n",
    "\n",
    "print(labels)\n",
    "\n",
    "full_data = np.genfromtxt('../../sf_vs_nyc_house_data.csv', delimiter=',')[1:]\n",
    "full_data.shape"
   ]
  },
  {
   "cell_type": "code",
   "execution_count": 183,
   "metadata": {},
   "outputs": [
    {
     "name": "stdout",
     "output_type": "stream",
     "text": [
      " Train shape X: (393, 7) y: (99, 1) \n",
      "  Test shape X: (99, 7)  y: (99, 1) \n"
     ]
    }
   ],
   "source": [
    "X_train, X_test, y_train, y_test = train_test_split(full_data[:,1:], full_data[:,:1], test_size=.2)\n",
    "\n",
    "print(f' Train shape X: {X_train.shape} y: {y_test.shape} \\n  Test shape X: {X_test.shape}  y: {y_test.shape} ')"
   ]
  },
  {
   "cell_type": "markdown",
   "metadata": {},
   "source": [
    "---\n",
    "NOW THAT WE HAVE THAT WE CAN START TO MAKE THE NN\n"
   ]
  },
  {
   "cell_type": "code",
   "execution_count": 184,
   "metadata": {},
   "outputs": [],
   "source": [
    "class NN():\n",
    "\n",
    "    def __init__(self, input_size, hidden_sizes, out_size) -> None:\n",
    "        self.l1 = np.random.rand(input_size,hidden_sizes[0])\n",
    "        self.b1 = np.zeros((1,hidden_sizes[0]))\n",
    "        self.l2 = np.random.rand(hidden_sizes[0],hidden_sizes[1])\n",
    "        self.b2 = np.zeros((1,hidden_sizes[1]))\n",
    "        self.l3 = np.random.rand(hidden_sizes[1],out_size)\n",
    "        self.b3 = np.zeros((1,out_size))\n",
    "\n",
    "    def activation_func(self, o, type):\n",
    "        if type.lower()== 'relu':\n",
    "            return np.where(o > 0, o, 0)\n",
    "        if type.lower() == 'softmax':\n",
    "            #make val stable\n",
    "            o_stable = o - np.max(o, axis=1, keepdims=True)\n",
    "            o_exp = np.exp(o_stable) #e^x for each x in 0_stable\n",
    "            return o_exp / np.sum(o_exp, axis=1, keepdims=True)\n",
    "        if type.lower() == 'sigmoid':\n",
    "            return 1/(1+np.exp(-o))\n",
    "        \n",
    "            \n",
    "        \n",
    "    def forward(self, X):\n",
    "        o1 = X @ self.l1 + self.b1\n",
    "        h1 = self.activation_func(o1, 'relu')\n",
    "        o2 = h1 @ self.l2 + self.b2\n",
    "        h2 = self.activation_func(o2, 'relu')\n",
    "        o3 = h2 @ self.l3 + self.b3\n",
    "        y_hat = self.activation_func(o3, 'sigmoid')\n",
    "        return y_hat\n",
    "    \n",
    "    def calc_loss(self, y_true, y_hat, type):\n",
    "        if type.lower() == 'mse':\n",
    "            return np.sum((y_true - y_hat) ** 2) / len(y_true)\n",
    "    \n",
    "    #def calc_gradinet(self, y_hat, y_true):\n",
    "\n"
   ]
  },
  {
   "cell_type": "code",
   "execution_count": 185,
   "metadata": {},
   "outputs": [],
   "source": [
    "nn = NN(7, [5,3], 1)"
   ]
  },
  {
   "cell_type": "code",
   "execution_count": 186,
   "metadata": {},
   "outputs": [],
   "source": [
    "res = nn.forward(X_train)"
   ]
  },
  {
   "cell_type": "code",
   "execution_count": 187,
   "metadata": {},
   "outputs": [
    {
     "data": {
      "text/plain": [
       "array([[1.],\n",
       "       [1.],\n",
       "       [1.],\n",
       "       [1.],\n",
       "       [1.],\n",
       "       [1.],\n",
       "       [1.],\n",
       "       [1.],\n",
       "       [1.],\n",
       "       [1.]])"
      ]
     },
     "execution_count": 187,
     "metadata": {},
     "output_type": "execute_result"
    }
   ],
   "source": [
    "res[:10]"
   ]
  }
 ],
 "metadata": {
  "kernelspec": {
   "display_name": "Python 3",
   "language": "python",
   "name": "python3"
  },
  "language_info": {
   "codemirror_mode": {
    "name": "ipython",
    "version": 3
   },
   "file_extension": ".py",
   "mimetype": "text/x-python",
   "name": "python",
   "nbconvert_exporter": "python",
   "pygments_lexer": "ipython3",
   "version": "3.11.5"
  }
 },
 "nbformat": 4,
 "nbformat_minor": 2
}
