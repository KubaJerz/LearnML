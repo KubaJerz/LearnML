{
 "cells": [
  {
   "cell_type": "code",
   "execution_count": 17,
   "metadata": {},
   "outputs": [],
   "source": [
    "import torch\n",
    "from torch import nn\n",
    "from tqdm import tqdm\n",
    "import os\n",
    "import matplotlib.pyplot as plt\n",
    "from sklearn.model_selection import train_test_split"
   ]
  },
  {
   "cell_type": "markdown",
   "metadata": {},
   "source": [
    "# 🧠 **Many Men vs Iron Man** 🧠\n",
    "\n",
    "### Welcome to an Lesson 03! 🚀\n",
    "\n",
    "In this notebook, we will pit an ensemble of 3 neural networks 👫👫👫 against 1 big neural network 💪 to see which performs better at identifying the state (REM, wakeful, deep) of a 10-second long segment of data.\n",
    "\n",
    "Our data comes from **rats** 🐀 and includes 10-second long segments that are classified into one of three states: REM, wakeful, or deep sleep. By comparing these two approaches, we aim to determine whether the combined wisdom of many smaller models or the sheer power of a single large model will triumph.\n",
    "\n",
    "Will the collective intelligence of many prevail, or will the might of a lone giant come out on top? Let's dive in and find out! 🔍⚡"
   ]
  },
  {
   "cell_type": "code",
   "execution_count": 20,
   "metadata": {},
   "outputs": [
    {
     "name": "stdout",
     "output_type": "stream",
     "text": [
      "Training data shape: torch.Size([34560, 1000])\n",
      "Training labels shape: torch.Size([34560, 3])\n",
      "Test data shape: torch.Size([17280, 1000])\n",
      "Test labels shape: torch.Size([17280, 3])\n"
     ]
    }
   ],
   "source": [
    "DATA_FOLDER = './../data/rat_eeg'\n",
    "\n",
    "\n",
    "files = [f for f in os.listdir(DATA_FOLDER) if f.endswith('.pt')]\n",
    "\n",
    "all_data = []\n",
    "for file in files:\n",
    "    path = os.path.join(DATA_FOLDER, file)\n",
    "    data = torch.load(path)\n",
    "    all_data.append((data[0], data[1]))\n",
    "\n",
    "# split  into train and test sets\n",
    "train_data, test_data = train_test_split(all_data, test_size=2/6, random_state=42)\n",
    "\n",
    "# concat to creat full set\n",
    "X_train = torch.cat([data[0] for data in train_data])\n",
    "y_train = torch.cat([data[1] for data in train_data])\n",
    "\n",
    "X_test = torch.cat([data[0] for data in test_data])\n",
    "y_test = torch.cat([data[1] for data in test_data])\n",
    "\n",
    "print(f\"Training data shape: {X_train.shape}\")\n",
    "print(f\"Training labels shape: {y_train.shape}\")\n",
    "print(f\"Test data shape: {X_test.shape}\")\n",
    "print(f\"Test labels shape: {y_test.shape}\")\n"
   ]
  },
  {
   "cell_type": "markdown",
   "metadata": {},
   "source": [
    "### 🎵 Side Note 🎵\n",
    "\n",
    "Can we code this whole thing up while listening to nothing but \"Many Men\"? 🤔🎶 I don't know, but I will keep you updated at eh end of the note book!\n"
   ]
  },
  {
   "cell_type": "code",
   "execution_count": null,
   "metadata": {},
   "outputs": [],
   "source": []
  }
 ],
 "metadata": {
  "kernelspec": {
   "display_name": "Python 3",
   "language": "python",
   "name": "python3"
  },
  "language_info": {
   "codemirror_mode": {
    "name": "ipython",
    "version": 3
   },
   "file_extension": ".py",
   "mimetype": "text/x-python",
   "name": "python",
   "nbconvert_exporter": "python",
   "pygments_lexer": "ipython3",
   "version": "3.11.5"
  }
 },
 "nbformat": 4,
 "nbformat_minor": 2
}
