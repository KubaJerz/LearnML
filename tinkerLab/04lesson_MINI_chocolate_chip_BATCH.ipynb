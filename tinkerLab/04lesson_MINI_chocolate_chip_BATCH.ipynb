{
 "cells": [
  {
   "cell_type": "markdown",
   "metadata": {},
   "source": [
    "## 🌟 **Welcome to Lesson 04!** 🌟\n",
    "\n",
    "### **What are Batches and Mini Batches? 🍪🍪**\n",
    "\n",
    "In this lesson, we'll explore the concepts of batches and mini batches in depth. Why use them? How is training on batches even diffent than training on the whole Training data set? And how does using batches impact the training and performance of our models?\n",
    "\n",
    "### **Detailed Examination 🔍**\n",
    "\n",
    "We'll start with a detailed explination of batches and mini batches. We'll cover:\n",
    "\n",
    "- **Definitions** 📖: Understanding what batches and mini batches are.\n",
    "- **Benefits** 💡: Why they are crucial in training deep learning models.\n",
    "- **Challenges** 🚧: The potential issues and how to overcome them.\n",
    "\n",
    "<span style=\"color:pink;\"> **READ THE 04lesson PDF FOR THE IN DEPTH EXPLINATION** </span>\n",
    "\n",
    "### **Coding Example 💻**\n",
    "\n",
    "We'll implement two models to put theory into practice:\n",
    "\n",
    "1. **Model 1**: Trained using mini batching.\n",
    "2. **Model 2**: Trained using the entire training set.\n",
    "\n",
    "We'll evaluate which model performs better at identifying the state (REM, wakeful, deep) of a 10-second long segment of data.\n",
    "Our data comes from **rats** 🐀 and includes 10-second long segments that are classified into one of three states: REM, wakeful, or deep sleep.\n",
    "\n",
    "Ready to dive in? Let's get started! 🚀\n"
   ]
  },
  {
   "cell_type": "markdown",
   "metadata": {},
   "source": [
    "1. read the cahpter\n",
    "2. read the paper"
   ]
  }
 ],
 "metadata": {
  "language_info": {
   "name": "python"
  }
 },
 "nbformat": 4,
 "nbformat_minor": 2
}
