{
 "cells": [
  {
   "cell_type": "code",
   "execution_count": 13,
   "metadata": {},
   "outputs": [],
   "source": [
    "import pandas as pd\n",
    "from sklearn import tree\n",
    "from sklearn.model_selection import train_test_split\n",
    "from sklearn.tree import plot_tree\n",
    "import matplotlib.pyplot as plt\n",
    "from d_tree import DecisionTree"
   ]
  },
  {
   "cell_type": "code",
   "execution_count": 14,
   "metadata": {},
   "outputs": [
    {
     "data": {
      "text/html": [
       "<div>\n",
       "<style scoped>\n",
       "    .dataframe tbody tr th:only-of-type {\n",
       "        vertical-align: middle;\n",
       "    }\n",
       "\n",
       "    .dataframe tbody tr th {\n",
       "        vertical-align: top;\n",
       "    }\n",
       "\n",
       "    .dataframe thead th {\n",
       "        text-align: right;\n",
       "    }\n",
       "</style>\n",
       "<table border=\"1\" class=\"dataframe\">\n",
       "  <thead>\n",
       "    <tr style=\"text-align: right;\">\n",
       "      <th></th>\n",
       "      <th>in_sf</th>\n",
       "      <th>beds</th>\n",
       "      <th>bath</th>\n",
       "      <th>price</th>\n",
       "      <th>year_built</th>\n",
       "      <th>sqft</th>\n",
       "      <th>price_per_sqft</th>\n",
       "      <th>elevation</th>\n",
       "    </tr>\n",
       "  </thead>\n",
       "  <tbody>\n",
       "    <tr>\n",
       "      <th>0</th>\n",
       "      <td>0</td>\n",
       "      <td>2.0</td>\n",
       "      <td>1.0</td>\n",
       "      <td>999000</td>\n",
       "      <td>1960</td>\n",
       "      <td>1000</td>\n",
       "      <td>999</td>\n",
       "      <td>10</td>\n",
       "    </tr>\n",
       "    <tr>\n",
       "      <th>1</th>\n",
       "      <td>0</td>\n",
       "      <td>2.0</td>\n",
       "      <td>2.0</td>\n",
       "      <td>2750000</td>\n",
       "      <td>2006</td>\n",
       "      <td>1418</td>\n",
       "      <td>1939</td>\n",
       "      <td>0</td>\n",
       "    </tr>\n",
       "    <tr>\n",
       "      <th>2</th>\n",
       "      <td>0</td>\n",
       "      <td>2.0</td>\n",
       "      <td>2.0</td>\n",
       "      <td>1350000</td>\n",
       "      <td>1900</td>\n",
       "      <td>2150</td>\n",
       "      <td>628</td>\n",
       "      <td>9</td>\n",
       "    </tr>\n",
       "    <tr>\n",
       "      <th>3</th>\n",
       "      <td>0</td>\n",
       "      <td>1.0</td>\n",
       "      <td>1.0</td>\n",
       "      <td>629000</td>\n",
       "      <td>1903</td>\n",
       "      <td>500</td>\n",
       "      <td>1258</td>\n",
       "      <td>9</td>\n",
       "    </tr>\n",
       "    <tr>\n",
       "      <th>4</th>\n",
       "      <td>0</td>\n",
       "      <td>0.0</td>\n",
       "      <td>1.0</td>\n",
       "      <td>439000</td>\n",
       "      <td>1930</td>\n",
       "      <td>500</td>\n",
       "      <td>878</td>\n",
       "      <td>10</td>\n",
       "    </tr>\n",
       "  </tbody>\n",
       "</table>\n",
       "</div>"
      ],
      "text/plain": [
       "   in_sf  beds  bath    price  year_built  sqft  price_per_sqft  elevation\n",
       "0      0   2.0   1.0   999000        1960  1000             999         10\n",
       "1      0   2.0   2.0  2750000        2006  1418            1939          0\n",
       "2      0   2.0   2.0  1350000        1900  2150             628          9\n",
       "3      0   1.0   1.0   629000        1903   500            1258          9\n",
       "4      0   0.0   1.0   439000        1930   500             878         10"
      ]
     },
     "execution_count": 14,
     "metadata": {},
     "output_type": "execute_result"
    }
   ],
   "source": [
    "house_df = pd.read_csv('./sf_vs_nyc_house_data.csv')\n",
    "house_df.head()"
   ]
  },
  {
   "cell_type": "code",
   "execution_count": 15,
   "metadata": {},
   "outputs": [
    {
     "data": {
      "text/plain": [
       "array([ 10,   0,   9,   9,  10,  10,  10,  10,  12,  12,   4,   5,   5,\n",
       "         3,   5,   5,  10,   3,   2,   5,   9,  10,  10,   4,   5,   6,\n",
       "        10,  10,  10,   8,   8,  10,  10,  10,  11,  11,  12,  12,   5,\n",
       "         6,   7,   9,  10,  10,  10,   8,  10,   3,   3,   3,   4,   5,\n",
       "         5,   5,   6,   7,   7,   5,   6,   6,   9,  10,  10,  10,  10,\n",
       "        10,  10,  10,  11,  12,  18,  18,  18,   8,  10,  19,  22,  10,\n",
       "        10,  12,  12,  10,  10,  10,  10,  10,  10,  13,  14,  16,  16,\n",
       "        17,  18,  18,  19,  19,  19,  20,  21,  21,  23,  24,  25,  25,\n",
       "        10,  12,  16,  16,  20,  21,  10,  10,  10,  10,  10,  10,  10,\n",
       "        10,  10,  10,  10,  11,  12,  12,  13,  14,  15,  15,  15,  15,\n",
       "        15,  15,  15,  15,  15,  15,  15,  15,  10,  10,  18,  23,  23,\n",
       "        23,  23,  24,  24,  24,  10,  10,  21,  22,  23,  27,  36,  10,\n",
       "        10,  10,  13,  25,  26,  27,  27,  30,  32,   8,  16,   8,   8,\n",
       "         9,  10,  10,  10,  10,  11,  14,  16,  22,  29,  10,  35,  35,\n",
       "        10,  10,  51,  39,  73,  73,   8,   8,   8,  10,  10,  10,  10,\n",
       "        11,  14,  14,   6,  10,  10,  14,  15,  17,  17,  17,  19,   2,\n",
       "        10,  10,  10,  15,  18,   8,  10,  14,  24,  24,  33,   0,   0,\n",
       "         1,   1,   0,  24,  24,  26,  29,   3,   5,   6,  10,  10,  10,\n",
       "        10,  12,  12,  13,  13,  14,  23, 163,  11,   0,   0,   0,   0,\n",
       "         0,   3,   7,   8,  12,  23,  23,  35,   2,   3,   3,   4,   4,\n",
       "         4,   5,   5,   5,   6,   7,  13,  14,  41,  53,  59,  11,  60,\n",
       "        66,  72,  83,  10,  19,  41,  51,  54,  56,  62,  68,  69,  73,\n",
       "        77,  87,   7,   7,   9,  13,  14,  20,  20,  30,  31,  33,  38,\n",
       "        55,  55,  69,  75,  83,  84,   4,   5,  12,  34,  44,  48,  48,\n",
       "        51,  52,  54,  54,  54,  56,  61,  66,  72,  74,  81,  94,  95,\n",
       "       102, 108, 108, 136, 139, 139, 140, 143,  33,  33,  50,  59,  74,\n",
       "        74,  74,  74,  89, 105, 238,  46,  68,  70,  70,  75,  89,  91,\n",
       "        35,  36,  41,  42,  52,  52,  79,  91,  97, 108, 119, 160, 227,\n",
       "        65,  67,  86,  88,  91,  91,  91,  91, 121,  57,  58,  67,  73,\n",
       "        73,  75,  75,  89, 102,  26,  44,  49,  55,  70,  81,  14,  36,\n",
       "        62,  71,  84,  97, 110, 110,   3,   9,  14,  17,  48,  50,  62,\n",
       "         5,   5,   5,   8,  11,  13,  19,  21,  23,  27,  31,  35,  36,\n",
       "        43,  55,  60,  98, 106, 127, 141, 176, 179, 181, 181, 216,  43,\n",
       "        43,  49,  52,  54,  56,  61,  66,  92,  98, 103, 106, 108, 112,\n",
       "       125, 131, 139, 143, 163, 163, 174, 185, 187, 189,  24,  24,  34,\n",
       "        43,  63,  63,  69,  80, 118, 123, 136, 143, 143, 153,  35,  36,\n",
       "        76,  11,  64,  79,  84,  90,   1,   1,   2,   2,   2,  13,   4,\n",
       "         4,   5,  24,  48,  49,  66,  76, 106, 106, 163, 216])"
      ]
     },
     "execution_count": 15,
     "metadata": {},
     "output_type": "execute_result"
    }
   ],
   "source": [
    "df_copy = house_df\n",
    "np_house  = df_copy.to_numpy(dtype=int)\n",
    "\n",
    "np_house[:, -1]\n",
    "#len(np_house[1])"
   ]
  },
  {
   "cell_type": "code",
   "execution_count": 16,
   "metadata": {},
   "outputs": [],
   "source": [
    "X_train, X_test, y_train, y_test = train_test_split(house_df.iloc[:, 1:], house_df['in_sf'], test_size=0.2, random_state=42)"
   ]
  },
  {
   "cell_type": "code",
   "execution_count": 17,
   "metadata": {},
   "outputs": [],
   "source": [
    "clf = tree.DecisionTreeClassifier(max_depth=10, criterion='entropy')\n",
    "clf = clf.fit(X_train,y_train)"
   ]
  },
  {
   "cell_type": "code",
   "execution_count": 18,
   "metadata": {},
   "outputs": [],
   "source": [
    "# # Create a figure with a larger size\n",
    "# fig, ax = plt.subplots(figsize=(20, 10))  # Adjust the size as needed\n",
    "\n",
    "# feature_names = house_df.iloc[:, 1:].columns.tolist()\n",
    "\n",
    "# # Plot the tree on the larger figure\n",
    "# tree.plot_tree(clf, ax=ax, feature_names=feature_names, fontsize=10)  # Adjust the fontsize as needed\n",
    "\n",
    "# # Show the plot\n",
    "# plt.show()"
   ]
  },
  {
   "cell_type": "code",
   "execution_count": 19,
   "metadata": {},
   "outputs": [],
   "source": [
    "y_pred = clf.predict(X_test)"
   ]
  },
  {
   "cell_type": "code",
   "execution_count": 20,
   "metadata": {},
   "outputs": [
    {
     "data": {
      "image/png": "[encoded data removed]",
      "text/plain": [
       "<Figure size 640x480 with 2 Axes>"
      ]
     },
     "metadata": {},
     "output_type": "display_data"
    }
   ],
   "source": [
    "from sklearn.metrics import ConfusionMatrixDisplay\n",
    "\n",
    "ConfusionMatrixDisplay.from_predictions(y_true=y_test,y_pred=y_pred)\n",
    "plt.show()"
   ]
  },
  {
   "cell_type": "markdown",
   "metadata": {},
   "source": [
    "# Nice now lets make our own decison tree"
   ]
  },
  {
   "cell_type": "code",
   "execution_count": 21,
   "metadata": {},
   "outputs": [],
   "source": [
    "mytree = DecisionTree(max_depth = 10, criterion='entropy')\n",
    "\n",
    "mytree.fit(X_train, y_train)"
   ]
  },
  {
   "cell_type": "code",
   "execution_count": 22,
   "metadata": {},
   "outputs": [
    {
     "name": "stdout",
     "output_type": "stream",
     "text": [
      "Results:\n",
      "\n",
      "86  from size of:  99 \n",
      "\n"
     ]
    },
    {
     "data": {
      "image/png": "[encoded data removed]",
      "text/plain": [
       "<Figure size 640x480 with 2 Axes>"
      ]
     },
     "metadata": {},
     "output_type": "display_data"
    }
   ],
   "source": [
    "test_pred = mytree.predict(X_test)\n",
    "\n",
    "print('Results:\\n')\n",
    "print(sum(test_pred == y_test),' from size of: ',len(test_pred),'\\n')\n",
    "\n",
    "from sklearn.metrics import accuracy_score, ConfusionMatrixDisplay\n",
    "accuracy_score(y_test, test_pred)\n",
    "\n",
    "ConfusionMatrixDisplay.from_predictions(y_true=y_test,y_pred=test_pred)\n",
    "plt.show()\n"
   ]
  },
  {
   "cell_type": "code",
   "execution_count": 23,
   "metadata": {},
   "outputs": [],
   "source": [
    "# mytree.set_labels(X_test.columns)\n",
    "# mytree.print()"
   ]
  },
  {
   "cell_type": "code",
   "execution_count": 24,
   "metadata": {},
   "outputs": [
    {
     "name": "stdout",
     "output_type": "stream",
     "text": [
      "Results:\n",
      "\n",
      "89  from size of:  99 \n",
      "\n"
     ]
    },
    {
     "data": {
      "image/png": "[encoded data removed]",
      "text/plain": [
       "<Figure size 640x480 with 2 Axes>"
      ]
     },
     "metadata": {},
     "output_type": "display_data"
    }
   ],
   "source": [
    "mytree = DecisionTree(max_depth = 10)\n",
    "\n",
    "mytree.fit(X_train, y_train)\n",
    "\n",
    "test_pred = mytree.predict(X_test)\n",
    "\n",
    "print('Results:\\n')\n",
    "print(sum(test_pred == y_test),' from size of: ',len(test_pred),'\\n')\n",
    "\n",
    "from sklearn.metrics import accuracy_score, ConfusionMatrixDisplay\n",
    "accuracy_score(y_test, test_pred)\n",
    "\n",
    "ConfusionMatrixDisplay.from_predictions(y_true=y_test,y_pred=test_pred)\n",
    "plt.show()"
   ]
  },
  {
   "cell_type": "code",
   "execution_count": null,
   "metadata": {},
   "outputs": [],
   "source": []
  }
 ],
 "metadata": {
  "kernelspec": {
   "display_name": "Python 3",
   "language": "python",
   "name": "python3"
  },
  "language_info": {
   "codemirror_mode": {
    "name": "ipython",
    "version": 3
   },
   "file_extension": ".py",
   "mimetype": "text/x-python",
   "name": "python",
   "nbconvert_exporter": "python",
   "pygments_lexer": "ipython3",
   "version": "3.11.5"
  }
 },
 "nbformat": 4,
 "nbformat_minor": 2
}
